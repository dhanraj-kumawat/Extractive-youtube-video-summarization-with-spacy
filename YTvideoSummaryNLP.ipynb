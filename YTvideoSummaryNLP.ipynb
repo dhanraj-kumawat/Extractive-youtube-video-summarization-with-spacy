{
  "cells": [
    {
      "cell_type": "code",
      "source": [
        "!pip install youtube-transcript-api"
      ],
      "metadata": {
        "colab": {
          "base_uri": "https://localhost:8080/"
        },
        "id": "TjQxQ9TcJFJH",
        "outputId": "e8072899-6779-4a00-9b58-cd8b08233046"
      },
      "execution_count": 3,
      "outputs": [
        {
          "output_type": "stream",
          "name": "stdout",
          "text": [
            "Looking in indexes: https://pypi.org/simple, https://us-python.pkg.dev/colab-wheels/public/simple/\n",
            "Collecting youtube-transcript-api\n",
            "  Downloading youtube_transcript_api-0.6.0-py3-none-any.whl (23 kB)\n",
            "Requirement already satisfied: requests in /usr/local/lib/python3.9/dist-packages (from youtube-transcript-api) (2.27.1)\n",
            "Requirement already satisfied: idna<4,>=2.5 in /usr/local/lib/python3.9/dist-packages (from requests->youtube-transcript-api) (3.4)\n",
            "Requirement already satisfied: charset-normalizer~=2.0.0 in /usr/local/lib/python3.9/dist-packages (from requests->youtube-transcript-api) (2.0.12)\n",
            "Requirement already satisfied: certifi>=2017.4.17 in /usr/local/lib/python3.9/dist-packages (from requests->youtube-transcript-api) (2022.12.7)\n",
            "Requirement already satisfied: urllib3<1.27,>=1.21.1 in /usr/local/lib/python3.9/dist-packages (from requests->youtube-transcript-api) (1.26.15)\n",
            "Installing collected packages: youtube-transcript-api\n",
            "Successfully installed youtube-transcript-api-0.6.0\n"
          ]
        }
      ]
    },
    {
      "cell_type": "code",
      "execution_count": 4,
      "metadata": {
        "id": "uRKouqyDQwz8"
      },
      "outputs": [],
      "source": [
        "from youtube_transcript_api import YouTubeTranscriptApi\n",
        "# // url\n",
        "video_id = '5MgBikgcWnY'\n"
      ]
    },
    {
      "cell_type": "code",
      "source": [
        "transcript_list = YouTubeTranscriptApi.get_transcript(video_id)  # Get the transcript as a list of dictionaries\n",
        "\n",
        "transcript_text = \"\"  # Initialize an empty string to store the transcript text\n",
        "\n",
        "for line in transcript_list:\n",
        "    transcript_text += \" \" + line[\"text\"]  # Concatenate the text of each line in the transcript\n",
        "\n",
        "print(transcript_text)  # Print the transcript text"
      ],
      "metadata": {
        "colab": {
          "base_uri": "https://localhost:8080/"
        },
        "id": "UVWR95_IGbOD",
        "outputId": "95f5d506-2c30-462f-d6e0-38717f163582"
      },
      "execution_count": 5,
      "outputs": [
        {
          "output_type": "stream",
          "name": "stdout",
          "text": [
            " Transcriber: Gustavo Rocha\n",
            "Reviewer: Marssi Draw Hi everyone. Two year ago, my life changed forever. My wife Kelsey and I welcomed our daughter Lela\n",
            "into the world. Now, becoming a parent\n",
            "is an amazing experience. Your whole world changes over night. And all of your priorities\n",
            "change immediately. So fast that it makes it really difficult\n",
            "to process sometimes. Now, you also have to learn\n",
            "a tremendous amount about being a parent like, for example,\n",
            "how to dress your child. (Laughter) This was new to me. This is an actual outfit, \n",
            "I thought this was a good idea. And even Lela knows\n",
            "that it's not a good idea. (Laughter) So there is so much to learn and\n",
            "so much craziness all at once. And to add to the craziness, \n",
            "Kelsey and I both work from home, we're entrepreneurs,\n",
            "we run our own businesses. So, Kelsey develops courses\n",
            "online for yoga teachers. I'm an author. And so, I'm working from home,\n",
            "Kelsey's working from home. We have an infant\n",
            "and we're trying to make sure that everything gets done\n",
            "that needs done. And life is really, really busy. And a couple of weeks\n",
            "into this amazing experience, when the sleep deprivation\n",
            "really kicked in, like around week eight, I had this thought,\n",
            "and it was the same thought that parents across the ages,\n",
            "internationally, everybody has had this thought,\n",
            "which is: I am never going to have\n",
            "free time ever again. (Laughter) Somebody said it's true. It's not exactly true, but it feels really, really true\n",
            "in that moment. And this was really\n",
            "disconcerning to me, because one of the things that I enjoy more than anything else\n",
            "is learning new things. Getting curious about something\n",
            "and diving in and fiddling around and \n",
            "learning through trial and error. And eventually becoming pretty good\n",
            "at something. And without this free time, I didn't know how I was ever \n",
            "going to do that ever again. And so, I'm a big geek, I want to keep learning things,\n",
            "I want to keep growing. And so what I've decided to do was, go to the library,\n",
            "and go to the bookstore, and look at what research says about how we learn and how we learn quickly. And I read a bunch of books,\n",
            "I read a bunch of websites. And tried to answer this question, how long does it take\n",
            "to acquire a new skill? You know what I found? 10,000 hours! Anybody ever heard this? It takes 10,000 hours.\n",
            "If you want to learn something new, if you want to be good at it, it's going to take 10,000 hours\n",
            "to get there. And I read this in book after book,\n",
            "in website after website. And my mental experience\n",
            "of reading all of this stuff was like: No!! I don't have time!\n",
            "I don't have 10,000 hours. I am never going to be able\n",
            "to learn anything new. Ever again.\n",
            "(Laughter) But that's not true. So, 10,000 hours, just to give you\n",
            "a rough order of magnitude, 10,000 hours is a full-time job\n",
            "for five years. That's a long time. And we've all had the experience\n",
            "of learning something new, and it didn't take us anywhere\n",
            "close to that amount of time, right? So, what's up? There's something\n",
            "kinda funky going on here. What the research says and what we expect,\n",
            "and have experiences, they don't match up. And what I found, here's the wrinkle: The 10,000 hour rule came out of studies\n",
            "of expert-level performance. There's a professor\n",
            "at Florida State University, his name is K. Anders Ericsson. He is the originator\n",
            "of the 10,00 hour rule. And where that came from is,\n",
            "he studied professional athletes, world class musicians,\n",
            "chess grand masters. All of this ultra competitive folks\n",
            "in ultra-high performing fields. And he tried to figure out\n",
            "how long does it take to get to the top\n",
            "of those kinds of fields. And what he found is,\n",
            "the more deliberate practice, the more time\n",
            "that those individuals spend practicing the elements\n",
            "of whatever it is that they do, the more time you spend,\n",
            "the better you get. And the folks at the tippy top\n",
            "of their fields put in around 10,000 hours of practice. Now, we were talking about the game\n",
            "of telephone a little bit earlier. Here's what happened: an author by the name\n",
            "of Malcolm Gladwell wrote a book in 2007 called\n",
            "\"Outliers: The Story of Success\", and the central piece of that book\n",
            "was the 10,000 hour rule. Practice a lot, practice well,\n",
            "and you will do extremely well, you will reach the top of your field. So, the message, what Dr. Ericsson was actually saying is, it takes 10,000 hours to get\n",
            "at the top of an ultra competitive field in a very narrow subject,\n",
            "that's what that means. But here's what happened:\n",
            "ever since Outliers came out, immediately came out,\n",
            "reached the top of best seller lists, stayed there for three solid months. All of a sudden the 10,000 hour rule\n",
            "was everywhere. And a society-wide game of telephone\n",
            "started to be played. So this message, it takes 10,000 hours\n",
            "to reach the top of an ultra competitive field, became, it takes 10,000 hours\n",
            "to become an expert at something, which became, it takes 10,000 hours to become\n",
            "good at something, which became, it takes 10,000 hours\n",
            "to learn something. But that last statement,\n",
            "it takes 10,000 hours to learn something, is not true.\n",
            "It's not true. So, what the research actually says -- I spent a lot of time here\n",
            "at the CSU library in the cognitive psychology stacks\n",
            "'cause I'm a geek. And when you actually look\n",
            "at the studies of skill acquisition, you see over and over\n",
            "a graph like this. Now, researchers,\n",
            "whether they're studying a motor skill, something you do physically\n",
            "or a mental skill, they like to study things\n",
            "that they can time. 'Cause you can quantify that, right? So, they'll give research participants\n",
            "a little task, something that requires\n",
            "physical arrangement, or something that requires\n",
            "learning a little mental trick, and they'll time how long a participant\n",
            "takes to complete the skill. And here's what this graph says,\n",
            "when you start -- so when researchers gave participants\n",
            "a task, it took them a really long time, 'cause it was new\n",
            "and they were horrible. With a little bit of practice,\n",
            "they get better and better and better. And that early part of practice\n",
            "is really, really efficient. People get good at things\n",
            "with just a little bit of practice. Now, what's interesting to note is that, for skills that we want to learn\n",
            "for ourselves, we don't care so much about time,\n",
            "right? We just care about how good we are,\n",
            "whatever good happens to mean. So if we relabel performance time\n",
            "to how good you are, the graph flips, and you get\n",
            "his famous and widely known, this is the learning curve. And the story of the learning curve\n",
            "is when you start, you're grossly incompetent\n",
            "and you know it, right? (Laughter) With a little bit of practice,\n",
            "you get really good, really quick. So that early level of improvement\n",
            "is really fast. And then at a certain point\n",
            "you reach a plateau, and the subsequent games\n",
            "become much harder to get, they take more time to get. Now, my question is,\n",
            "I want that, right? How long does it take\n",
            "from starting something and being grossly incompetent\n",
            "and knowing it to being reasonably good? In hopefully, as short a period of time\n",
            "as possible. So, how long does that take? Here's what my research says: 20 hours. That's it.\n",
            "You can go from knowing nothing about any skill that you can think of. Want to learn a language?\n",
            "Want to learn how to draw? Want to learn how to juggle\n",
            "flaming chainsaws? (Laughter) If you put 20 hours of focused\n",
            "deliberate practice into that thing, you will be astounded. Astounded at how good you are. 20 hours is doable, that's about 45 minutes a day\n",
            "for about a month. Even skipping a couple days,\n",
            "here and there. 20 hours isn't that hard to accumulate. Now, there's a method to doing this. Because it's not like you can just start\n",
            "fiddling around for about 20 hours and expect these massive improvements. There's a way to practice intelligently. There's a way to practice efficiently, that will make sure that you invest\n",
            "those 20 hours in the most effective way\n",
            "that you possibly can. And here's the method,\n",
            "it applies to anything: The first is to deconstruct the skill. Decide exactly what you want\n",
            "to be able to do when you're done, and then look into the skill\n",
            "and break it down into smaller pieces. Most of the things\n",
            "that we think of as skills are actually big bundles of skills\n",
            "that require all sorts of different things. The more you can break apart the skill, the more you're able to decide, what are the parts of this skill\n",
            "that would actually help me get to what I want? And then you can practice those first. And if you practice\n",
            "the most important things first, you'll be able to improve\n",
            "your performance in the least amount of time possible. The second is, learn enough\n",
            "to self correct. So, get three to five resources\n",
            "about what it is you're trying to learn. Could be book, could be DVDs,\n",
            "could be courses, could be anything. But don't use those as a way\n",
            "to procrastinate on practice. I know I do this, right? Get like 20 books about the topic,\n",
            "like, \"I'm going to start learning\n",
            "how to program a computer when I complete these 20 books\". No. That's procrastination. What you want to do\n",
            "is learn just enough that you can actually practice and self correct or self edit\n",
            "as you practice. So the learning becomes\n",
            "a way of getting better at noticing\n",
            "when you're making a mistake and then doing something\n",
            "a little different. The third is to remove barriers\n",
            "to practice. Distractions, television, internet. All of these things\n",
            "that get in the way of you actually sitting down\n",
            "and doing the work. And the more you're able to use\n",
            "just a little bit of willpower to remove the distractions that\n",
            "are keeping you from practicing, the more likely you are to actually\n",
            "sit down and practice, right? And the fourth is to practice\n",
            "for at least 20 hours. Now, most skills have what I call\n",
            "a frustration barrier. You know, the grossly-incompetent-\n",
            "and-knowing-it part? That's really, really frustrating.\n",
            "We don't like to feel stupid. And feeling stupid is a barrier to us \n",
            "actually sitting down and doing the work. So, by pre-committing to practicing\n",
            "whatever it is that you want to do for at least 20 hours, you will be able to overcome\n",
            "that initial frustration barrier and stick with the practice long enough\n",
            "to actually reap the rewards. That's it! It's not rocket science. Four very simple steps that\n",
            "you can use to learn anything. Now, this is easy to talk\n",
            "about in theory, but it's more fun to talk about\n",
            "in practice. So one of the things that I've wanted\n",
            "to learn how to do for a long time is play the ukulele. Has anybody seen\n",
            "Jake Shimabukuro's TEDTalk where he plays the ukulele\n",
            "and makes it sound like -- he's like a ukulele god. It's amazing. I saw it, I was like,\n",
            "\"That is so cool!\" It's such a neat instrument.\n",
            "I would really like to learn how to play. And so I decided\n",
            "that to test this theory I wanted to put 20 hours\n",
            "into practicing ukulele and see where it got. And so the first thing\n",
            "about playing the ukulele is, in order to practice,\n",
            "you have to have one, right? So, I got an ukulele and\n",
            "-- My lovely assistant? (Laughter) Thank you sir.\n",
            "I think I need the chord here. It's not just an ukulele,\n",
            "it's an electric ukulele. (Laughter) Yeah. So, the first couple hours are just\n",
            "like the first couple hours of anything. You have to get the tools\n",
            "that you are using to practice. You have to make sure\n",
            "they're available. My ukulele didn't come\n",
            "with strings attached. I had to figure out\n",
            "how to put those on. Like, that's kind of important, right? And learning how to tune,\n",
            "learning how to make sure that all of the things\n",
            "that need to be done in order to start practicing\n",
            "get done, right? Now, one of the things when I was\n",
            "ready to actually start practicing was I looked in online databases\n",
            "and songbooks for how to play songs. And they say, okay, ukuleles, you can\n",
            "play more than one string at a time, so you can play chords, that's cool, you are accompanying yourself,\n",
            "yay you. (Laughter) And when I started looking at songs, I had an ukulele chord book\n",
            "that had like hundreds of chords. Looking at this and\n",
            "\"Wow, that's intimidating\". But when you look at the actual songs, you see the same chords\n",
            "over and over, right? As it turns out, playing the ukulele\n",
            "is kind of like doing anything, There's a very small set of things\n",
            "that are really important and techniques that you'll use\n",
            "all the time. And in most songs\n",
            "you'll use four, maybe five chords, and that's it, that's the song. You don't have to know hundreds,\n",
            "as long as you know the four or the five. So, while I was doing my research, I found a wonderful little medley\n",
            "of pop songs by a band called Axis of Awesome.\n",
            "(Whistles) -- Somebody knows it. -- And what Axis of Awesome says\n",
            "is that you can learn, or you can play pretty much\n",
            "any pop song of the past five decades, if you know four chords, and those chords are G, D, Em and C. Four chords pump out\n",
            "every pop song ever, right? So I thought, this is cool! I would like to play\n",
            "every pop song ever. (Laughter) So, that was the first song\n",
            "I decided to learn, and I would like to actually\n",
            "share it with you. Ready? (Applause)\n",
            "Alright. (Music) (Singing)\n",
            "Just a small town girl, living in a lonely world, she took the midnight train\n",
            "going anywhere. I heard that you settled down,\n",
            "(Laughter) that you found a girl, that you're married now. Every night in my dreams\n",
            "(Laughter) I see you, I feel you, that is how I know you go on.\n",
            "(Laughter) I won't hesitate no more, no more.\n",
            "It cannot wait, I'm yours. 'Cause you were amazing,\n",
            "we did amazing things. If I could, then I would,\n",
            "I'd go wherever you will -- Can you feel the love tonight.\n",
            "(Laughter) I can't live with or without you. When I find myself -- When I find myself in times of trouble,\n",
            "mother Mary comes to me, Sometimes I feel like I don't have partner.\n",
            "No woman, no cry. Yeah mama, this surely is a dream. I come from a land down under.\n",
            "(Laughter) Once a jolly swagman\n",
            "camped by a billabong. Hey, I just met you, and this is crazy,\n",
            "(Laughter) but here's my number, so call me Hey sexy lady, op, op, op, op,\n",
            "oppan gangnam style. (Laughter) It's time to say goodbye. Closing time, every new beginning\n",
            "comes from some other beginning's end. (Singing and music ends)\n",
            "(Applause) Thank you, thank you. I love that song.\n",
            "(Laughter) And I have a secret to share with you. So, by playing that song for you, I just hit my twentieth hour\n",
            "of practicing the ukulele. (Applause)\n",
            "Thank you. And so it's amazing, pretty much\n",
            "anything that you can think of, what do you want to do. The major barrier to learn\n",
            "something new is not intellectual, it's not the process of you learning\n",
            "a bunch of little tips or tricks or things. The major barrier's emotional.\n",
            "We're scared. Feeling stupid doesn't feel good, in the beginning of learning\n",
            "anything new you feel really stupid. So the major barrier's not intellectual,\n",
            "it's emotional. But put 20 hours into anything. It doesn't matter.\n",
            "What do you want to learn? Do you want to learn a language?\n",
            "Want to learn how to cook? Want to learn how to draw? What turns you on?\n",
            "What lights you up? Go out and do that thing.\n",
            "It only takes 20 hours. Have fun. (Applause)\n"
          ]
        }
      ]
    },
    {
      "cell_type": "code",
      "execution_count": null,
      "metadata": {
        "id": "e358ujabRX80"
      },
      "outputs": [],
      "source": [
        "!pip install -U spacy"
      ]
    },
    {
      "cell_type": "code",
      "source": [
        "!python -m spacy download en_core_web_sm"
      ],
      "metadata": {
        "id": "8ZBqFYNoL_zG"
      },
      "execution_count": null,
      "outputs": []
    },
    {
      "cell_type": "code",
      "source": [
        "import spacy \n",
        "from spacy.lang.en.stop_words import STOP_WORDS\n",
        "from string import punctuation"
      ],
      "metadata": {
        "id": "I1zZbf-zMQ0F"
      },
      "execution_count": null,
      "outputs": []
    },
    {
      "cell_type": "code",
      "source": [
        "stopwords = list(STOP_WORDS)"
      ],
      "metadata": {
        "id": "Ifcd-ywGMsmF"
      },
      "execution_count": null,
      "outputs": []
    },
    {
      "cell_type": "code",
      "source": [
        "nlp = spacy.load('en_core_web_sm')"
      ],
      "metadata": {
        "id": "XZrJLYBoMnNT"
      },
      "execution_count": null,
      "outputs": []
    },
    {
      "cell_type": "code",
      "execution_count": null,
      "metadata": {
        "id": "jMxNAolyRNjK"
      },
      "outputs": [],
      "source": [
        "doc = nlp(transcript_text)"
      ]
    },
    {
      "cell_type": "code",
      "source": [
        "tokens = [token.text for token in doc]\n"
      ],
      "metadata": {
        "id": "nb8XFiSzNUJA"
      },
      "execution_count": null,
      "outputs": []
    },
    {
      "cell_type": "code",
      "source": [
        "punctuation"
      ],
      "metadata": {
        "id": "LgwkRzWVPGxC"
      },
      "execution_count": null,
      "outputs": []
    },
    {
      "cell_type": "code",
      "source": [
        "word_frequencies ={}\n",
        "for word in doc:\n",
        "  if word.text.lower() not in stopwords:\n",
        "    if word.text.lower() not in punctuation:\n",
        "      if word.text not in word_frequencies.keys():\n",
        "        word_frequencies[word.text] = 1\n",
        "      else:\n",
        "        word_frequencies[word.text]+=1\n"
      ],
      "metadata": {
        "id": "X0Gh2ASHOdQ0"
      },
      "execution_count": null,
      "outputs": []
    },
    {
      "cell_type": "code",
      "source": [
        "print(word_frequencies)"
      ],
      "metadata": {
        "id": "vmPH4G67Pxr8"
      },
      "execution_count": null,
      "outputs": []
    },
    {
      "cell_type": "code",
      "source": [
        "max_freq = max(word_frequencies.values())\n",
        "max_freq"
      ],
      "metadata": {
        "id": "KQIvXbH9P_rl"
      },
      "execution_count": null,
      "outputs": []
    },
    {
      "cell_type": "code",
      "source": [
        "for word in word_frequencies.keys():\n",
        "  word_frequencies[word] = word_frequencies[word]/max_freq"
      ],
      "metadata": {
        "id": "lW7yI69iQOZb"
      },
      "execution_count": null,
      "outputs": []
    },
    {
      "cell_type": "code",
      "source": [
        "print(word_frequencies)"
      ],
      "metadata": {
        "id": "ZuPOhPULQsVL"
      },
      "execution_count": null,
      "outputs": []
    },
    {
      "cell_type": "code",
      "source": [
        "sentence_tokens = [sent for sent in doc.sents]\n",
        "print(sentence_tokens)"
      ],
      "metadata": {
        "id": "lRie175nQu7w"
      },
      "execution_count": null,
      "outputs": []
    },
    {
      "cell_type": "code",
      "source": [
        "sentence_scores = {}\n",
        "for sent in sentence_tokens:\n",
        "  for word in sent:\n",
        "    if word.text.lower() in word_frequencies.keys():\n",
        "      if sent not in sentence_scores.keys():\n",
        "        sentence_scores[sent] = word_frequencies[word.text.lower()]\n",
        "      else:\n",
        "        sentence_scores[sent] += word_frequencies[word.text.lower()]"
      ],
      "metadata": {
        "id": "nbaVNZ6BRHhX"
      },
      "execution_count": null,
      "outputs": []
    },
    {
      "cell_type": "code",
      "source": [
        "print(sentence_scores)"
      ],
      "metadata": {
        "id": "aQ0_k6UkQK0C"
      },
      "execution_count": null,
      "outputs": []
    },
    {
      "cell_type": "code",
      "source": [
        "from heapq import nlargest"
      ],
      "metadata": {
        "id": "HiOWj3X0Pzbc"
      },
      "execution_count": null,
      "outputs": []
    },
    {
      "cell_type": "code",
      "source": [
        "select_length = int(len(sentence_tokens)*0.3)\n",
        "select_length"
      ],
      "metadata": {
        "id": "vXCoTZmwSY0h"
      },
      "execution_count": null,
      "outputs": []
    },
    {
      "cell_type": "code",
      "source": [
        "summary = nlargest(select_length,sentence_scores, key = sentence_scores.get)"
      ],
      "metadata": {
        "id": "NZHitJ9bSj5O"
      },
      "execution_count": null,
      "outputs": []
    },
    {
      "cell_type": "code",
      "source": [
        "summary"
      ],
      "metadata": {
        "id": "zJxxd8rrOTqQ"
      },
      "execution_count": null,
      "outputs": []
    },
    {
      "cell_type": "code",
      "source": [
        "final_summary = [word.text for word in summary]"
      ],
      "metadata": {
        "id": "Nfk7dQz1S7xG",
        "colab": {
          "base_uri": "https://localhost:8080/",
          "height": 171
        },
        "outputId": "e77de97a-5c92-49c8-9097-7272f7b8096f"
      },
      "execution_count": 2,
      "outputs": [
        {
          "output_type": "error",
          "ename": "NameError",
          "evalue": "ignored",
          "traceback": [
            "\u001b[0;31m---------------------------------------------------------------------------\u001b[0m",
            "\u001b[0;31mNameError\u001b[0m                                 Traceback (most recent call last)",
            "\u001b[0;32m<ipython-input-2-a56e2fc2cb0f>\u001b[0m in \u001b[0;36m<cell line: 1>\u001b[0;34m()\u001b[0m\n\u001b[0;32m----> 1\u001b[0;31m \u001b[0mfinal_summary\u001b[0m \u001b[0;34m=\u001b[0m \u001b[0;34m[\u001b[0m\u001b[0mword\u001b[0m\u001b[0;34m.\u001b[0m\u001b[0mtext\u001b[0m \u001b[0;32mfor\u001b[0m \u001b[0mword\u001b[0m \u001b[0;32min\u001b[0m \u001b[0msummary\u001b[0m\u001b[0;34m]\u001b[0m\u001b[0;34m\u001b[0m\u001b[0;34m\u001b[0m\u001b[0m\n\u001b[0m",
            "\u001b[0;31mNameError\u001b[0m: name 'summary' is not defined"
          ]
        }
      ]
    },
    {
      "cell_type": "code",
      "source": [
        "summary = ''.join(final_summary)"
      ],
      "metadata": {
        "id": "GRJg1O4ZTUFt"
      },
      "execution_count": null,
      "outputs": []
    },
    {
      "cell_type": "code",
      "source": [
        "summary"
      ],
      "metadata": {
        "id": "pyoM0hJLTcfx"
      },
      "execution_count": null,
      "outputs": []
    },
    {
      "cell_type": "code",
      "source": [],
      "metadata": {
        "id": "1cP-25l7Td_m"
      },
      "execution_count": null,
      "outputs": []
    },
    {
      "cell_type": "code",
      "source": [],
      "metadata": {
        "id": "YpKVCKu0TJAv"
      },
      "execution_count": 2,
      "outputs": []
    },
    {
      "cell_type": "code",
      "source": [],
      "metadata": {
        "id": "nPymntouOLpe"
      },
      "execution_count": 2,
      "outputs": []
    }
  ],
  "metadata": {
    "colab": {
      "toc_visible": true,
      "provenance": []
    },
    "kernelspec": {
      "display_name": "Python 3",
      "name": "python3"
    },
    "language_info": {
      "name": "python"
    }
  },
  "nbformat": 4,
  "nbformat_minor": 0
}